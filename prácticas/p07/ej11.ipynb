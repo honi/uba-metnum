{
 "cells": [
  {
   "cell_type": "markdown",
   "metadata": {},
   "source": [
    "# Ejercicio 11\n",
    "\n",
    "La recta $y(x) = \\alpha + \\beta x$ debe ajustarse a los siguientes datos:\n",
    "\n",
    "|       |       |       |     |       |       |\n",
    "|-------|-------|-------|-----|-------|-------|\n",
    "| $x_i$ | $-2$  | $-1$  | $0$ | $1$   | $2$   |\n",
    "| $y_i$ | $0.5$ | $0.5$ | $2$ | $3.5$ | $3.5$ |\n",
    "\n",
    "Determinar $\\alpha$ y $\\beta$ de modo que $\\sum_{i=1}^5 (y(x_i) - y_i)^2$ sea mínima."
   ]
  },
  {
   "cell_type": "markdown",
   "metadata": {},
   "source": [
    "Sea $A \\in \\mathbb{R}^{5x2}$ y $b \\in \\mathbb{R}^{5x1}$.\n",
    "\n",
    "$$\n",
    "A = \\begin{bmatrix}\n",
    "1 & -2 \\\\\n",
    "1 & -1 \\\\\n",
    "1 & 0 \\\\\n",
    "1 & 1 \\\\\n",
    "1 & 2\n",
    "\\end{bmatrix}\n",
    "\\hspace{2em}\n",
    "b = \\begin{bmatrix}\n",
    "0.5 \\\\\n",
    "0.5 \\\\\n",
    "2 \\\\\n",
    "3.5 \\\\\n",
    "3.5\n",
    "\\end{bmatrix}\n",
    "$$\n",
    "\n",
    "Buscamos $(\\alpha,\\beta)$ tal que $A^tA(\\alpha,\\beta) = A^tb$. Por ecuaciones normales, $(\\alpha,\\beta)$ es una solución al problema de cuadrados mínimos: $\\text{min}_{x \\in \\mathbb{R}^2} ||Ax - b||_2^2$.\n",
    "\n",
    "$$\n",
    "\\begin{align*}\n",
    "A^tA(\\alpha,\\beta) = A^tb\n",
    "& \\iff\n",
    "\\begin{bmatrix}\n",
    "1 & 1 & 1 & 1 & 1 \\\\\n",
    "-2 & -1 & 0 & 1 & 2\n",
    "\\end{bmatrix}\n",
    "\\begin{bmatrix}\n",
    "1 & -2 \\\\\n",
    "1 & -1 \\\\\n",
    "1 & 0 \\\\\n",
    "1 & 1 \\\\\n",
    "1 & 2\n",
    "\\end{bmatrix}\n",
    "\\begin{bmatrix}\n",
    "\\alpha \\\\\n",
    "\\beta\n",
    "\\end{bmatrix}\n",
    "=\n",
    "\\begin{bmatrix}\n",
    "1 & 1 & 1 & 1 & 1 \\\\\n",
    "-2 & -1 & 0 & 1 & 2\n",
    "\\end{bmatrix}\n",
    "\\begin{bmatrix}\n",
    "0.5 \\\\\n",
    "0.5 \\\\\n",
    "2 \\\\\n",
    "3.5 \\\\\n",
    "3.5\n",
    "\\end{bmatrix}\n",
    "\\\\\n",
    "& \\iff\n",
    "\\begin{bmatrix}\n",
    "5 & 0 \\\\\n",
    "0 & 10\n",
    "\\end{bmatrix}\n",
    "\\begin{bmatrix}\n",
    "\\alpha \\\\\n",
    "\\beta\n",
    "\\end{bmatrix}\n",
    "=\n",
    "\\begin{bmatrix}\n",
    "10 \\\\\n",
    "9\n",
    "\\end{bmatrix}\n",
    "\\\\\n",
    "& \\iff\n",
    "\\begin{cases}\n",
    "5 \\alpha &= 10 \\\\\n",
    "10 \\beta &= 9\n",
    "\\end{cases}\n",
    "\\\\\n",
    "& \\iff\n",
    "\\begin{cases}\n",
    "\\alpha &= 2 \\\\\n",
    "\\beta &= 0.9\n",
    "\\end{cases}\n",
    "\\end{align*}\n",
    "$$\n",
    "\n",
    "$\\therefore$ La recta que mejor aproxima los datos está dada por: $y(x) = 2 + 0.9 x$."
   ]
  },
  {
   "cell_type": "code",
   "execution_count": 7,
   "metadata": {},
   "outputs": [
    {
     "data": {
      "image/png": "[encoded data removed]",
      "text/plain": [
       "<Figure size 640x480 with 1 Axes>"
      ]
     },
     "metadata": {},
     "output_type": "display_data"
    }
   ],
   "source": [
    "import numpy as np\n",
    "import matplotlib.pyplot as plt\n",
    "\n",
    "x = np.array([-2, -1, 0, 1, 2])\n",
    "y = np.array([0.5, 0.5, 2, 3.5, 3.5])\n",
    "plt.scatter(x=x, y=y)\n",
    "\n",
    "f = lambda x: 2 + 0.9 * x\n",
    "fx = np.linspace(x.min(), x.max(), len(x))\n",
    "fy = list(map(f, fx))\n",
    "plt.plot(fx, fy, c=\"green\");"
   ]
  }
 ],
 "metadata": {
  "kernelspec": {
   "display_name": "venv",
   "language": "python",
   "name": "python3"
  },
  "language_info": {
   "codemirror_mode": {
    "name": "ipython",
    "version": 3
   },
   "file_extension": ".py",
   "mimetype": "text/x-python",
   "name": "python",
   "nbconvert_exporter": "python",
   "pygments_lexer": "ipython3",
   "version": "3.12.3"
  }
 },
 "nbformat": 4,
 "nbformat_minor": 2
}
