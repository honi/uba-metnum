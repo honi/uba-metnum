{
 "cells": [
  {
   "cell_type": "code",
   "execution_count": 47,
   "metadata": {},
   "outputs": [
    {
     "name": "stdout",
     "output_type": "stream",
     "text": [
      "J1 =\n",
      " [[0.   0.25]\n",
      " [0.9  0.  ]]\n",
      "J2 =\n",
      " [[0.         0.33333333]\n",
      " [0.5        0.        ]]\n",
      "\n",
      "ρ(J1) = 0.47434164902525694\n",
      "ρ(J2) = 0.408248290463863\n",
      "ρ(J1) > ρ(J2) -> True\n",
      "\n",
      "niter J1 = 20\n",
      "niter J2 = 17\n"
     ]
    }
   ],
   "source": [
    "import numpy as np\n",
    "\n",
    "A1 = np.array([\n",
    "    [1, -1/4],\n",
    "    [-9/10, 1]\n",
    "])\n",
    "\n",
    "A2 = np.array([\n",
    "    [1, -1/3],\n",
    "    [-1/2, 1]\n",
    "])\n",
    "\n",
    "def get_jacobi_iter_matrix(A):\n",
    "    L = -np.tril(A, k=-1)\n",
    "    U = -np.triu(A, k=1)\n",
    "    D = np.diag(np.diag(A))\n",
    "    M = D\n",
    "    N = L+U\n",
    "    J = np.linalg.inv(M) @ N\n",
    "    return J, M\n",
    "\n",
    "def get_spectral_radius(M):\n",
    "    return max(abs(np.linalg.eigvals(M)))\n",
    "\n",
    "def run_jacobi(J, M, b):\n",
    "    c = np.linalg.inv(M) @ b\n",
    "    x = np.random.rand(b.shape[0])\n",
    "    niter = 0\n",
    "    while True:\n",
    "        niter += 1\n",
    "        x_prev = x.copy()\n",
    "        x = J @ x + c\n",
    "        if np.linalg.norm(x - x_prev, ord=np.inf) < 1e-6:\n",
    "            return x, niter\n",
    "\n",
    "J1, M1 = get_jacobi_iter_matrix(A1)\n",
    "J2, M2 = get_jacobi_iter_matrix(A2)\n",
    "J1_radius = get_spectral_radius(J1)\n",
    "J2_radius = get_spectral_radius(J2)\n",
    "\n",
    "b = np.array([1, 2])\n",
    "x1, niter1 = run_jacobi(J1, M1, b)\n",
    "x2, niter2 = run_jacobi(J2, M2, b)\n",
    "\n",
    "print(\"J1 =\\n\", J1)\n",
    "print(\"J2 =\\n\", J2)\n",
    "print(\"\")\n",
    "print(\"ρ(J1) =\", J1_radius)\n",
    "print(\"ρ(J2) =\", J2_radius)\n",
    "print(\"ρ(J1) > ρ(J2) ->\", J1_radius > J2_radius)\n",
    "print(\"\")\n",
    "print(\"niter J1 =\", niter1)\n",
    "print(\"niter J2 =\", niter2)"
   ]
  }
 ],
 "metadata": {
  "kernelspec": {
   "display_name": "venv",
   "language": "python",
   "name": "python3"
  },
  "language_info": {
   "codemirror_mode": {
    "name": "ipython",
    "version": 3
   },
   "file_extension": ".py",
   "mimetype": "text/x-python",
   "name": "python",
   "nbconvert_exporter": "python",
   "pygments_lexer": "ipython3",
   "version": "3.12.3"
  }
 },
 "nbformat": 4,
 "nbformat_minor": 2
}
