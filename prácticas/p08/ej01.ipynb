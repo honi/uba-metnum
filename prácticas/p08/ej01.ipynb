{
 "cells": [
  {
   "cell_type": "markdown",
   "metadata": {},
   "source": [
    "### Descomposición $A = D - L - U$\n",
    "\n",
    "Descomponemos cualquier matriz $A$ de la siguiente forma.\n",
    "\n",
    "- $D$: diagonal de $A$.\n",
    "- $L$: triangular inferior de $A$ sin la diagonal y con signo opuesto.\n",
    "- $U$: triangular superior de $A$ sin la diagonal y con signo opuesto.\n",
    "\n",
    "### Esquema iterativo\n",
    "\n",
    "Sea $A = M - N$ con $M$ inversible.\n",
    "\n",
    "$Ax = b \\iff (M-N)x = b \\iff Mx - Nx = b \\iff Mx = Nx + b \\iff x = M^{-1}Nx + M^{-1}b$\n",
    "\n",
    "$x^{k+1} = \\underbrace{M^{-1}N}_{T} x^k + \\underbrace{M^{-1}b}_c$\n",
    "\n",
    "$x^{k+1} = T x^k + c$\n",
    "\n",
    "### Jacobi\n",
    "\n",
    "$M = D$ \\\n",
    "$N = L + U$ \\\n",
    "$A = M - N = D - L - U$\n",
    "\n",
    "$T_j = D^{-1} (L+U)$ \\\n",
    "$c_j = D^{-1} b$\n",
    "\n",
    "$x^{k+1} = D^{-1} (L+U) x^k + D^{-1} b$\n",
    "\n",
    "### Gauss-Seidel\n",
    "\n",
    "$M = D - L$ \\\n",
    "$N = U$ \\\n",
    "$A = M - N = D - L - U$\n",
    "\n",
    "$T_{gs} = (D-L)^{-1} U$ \\\n",
    "$c_{gs} = (D-L)^{-1} b$\n",
    "\n",
    "$x^{k+1} = (D-L)^{-1} U x^k + (D-L)^{-1} b$"
   ]
  },
  {
   "cell_type": "code",
   "execution_count": 2,
   "metadata": {},
   "outputs": [],
   "source": [
    "import numpy as np"
   ]
  },
  {
   "cell_type": "code",
   "execution_count": 68,
   "metadata": {},
   "outputs": [],
   "source": [
    "def iter_solve(A, b):\n",
    "    L = -np.tril(A, k=-1)\n",
    "    U = -np.triu(A, k=1)\n",
    "    D = np.diag(np.diag(A))\n",
    "    assert (A == (D - L - U)).all()\n",
    "\n",
    "    def run(b, M, N, niter):\n",
    "        T = np.linalg.inv(M) @ N\n",
    "        c = np.linalg.inv(M) @ b\n",
    "        x = np.random.rand(b.shape[0])\n",
    "        for _ in range(niter):\n",
    "            x = T @ x + c\n",
    "        return x\n",
    "\n",
    "    # Jacobi\n",
    "    M_j = D\n",
    "    N_j = L+U\n",
    "\n",
    "    # Gauss-Seidel\n",
    "    M_gs = D-L\n",
    "    N_gs = U\n",
    "\n",
    "    niter = 1000\n",
    "    x_j = run(b, M_j, N_j, niter)\n",
    "    x_gs = run(b, M_gs, N_gs, niter)\n",
    "\n",
    "    for name, x in [(\"Jacobi\", x_j), (\"Gauss-Seidel\", x_gs)]:\n",
    "        converge = np.allclose(A @ x, b)\n",
    "        print(name)\n",
    "        print(\"> Converge:\", converge)\n",
    "        if converge:\n",
    "            print(\"> Ax =\", A @ x)\n",
    "            print(\"> b =\", b)"
   ]
  },
  {
   "cell_type": "code",
   "execution_count": 69,
   "metadata": {},
   "outputs": [
    {
     "name": "stdout",
     "output_type": "stream",
     "text": [
      "Jacobi\n",
      "> Converge: True\n",
      "> Ax = [ 4. -1.  1.]\n",
      "> b = [ 4. -1.  1.]\n",
      "Gauss-Seidel\n",
      "> Converge: True\n",
      "> Ax = [ 4. -1.  1.]\n",
      "> b = [ 4. -1.  1.]\n"
     ]
    }
   ],
   "source": [
    "A = np.array([\n",
    "    [5, 2, -2],\n",
    "    [1, 3, 1],\n",
    "    [2, 2, 6],\n",
    "])\n",
    "b = np.array([4, -1, 1], dtype=np.float64)\n",
    "iter_solve(A, b)"
   ]
  },
  {
   "cell_type": "code",
   "execution_count": 70,
   "metadata": {},
   "outputs": [
    {
     "name": "stdout",
     "output_type": "stream",
     "text": [
      "Jacobi\n",
      "> Converge: False\n",
      "Gauss-Seidel\n",
      "> Converge: False\n"
     ]
    }
   ],
   "source": [
    "A = np.array([\n",
    "    [2, -1, 1],\n",
    "    [3, 3, 9],\n",
    "    [3, 3, 5],\n",
    "])\n",
    "b = np.array([-1, 0, 4], dtype=np.float64)\n",
    "iter_solve(A, b)"
   ]
  },
  {
   "cell_type": "code",
   "execution_count": 72,
   "metadata": {},
   "outputs": [],
   "source": [
    "A = np.array([\n",
    "    [0, 2, 4], # No funciona el método iterativo porque a_11 == 0\n",
    "    [1, -1, -1],\n",
    "    [1, -1, 2],\n",
    "])\n",
    "b = np.array([0, 0.375, 0], dtype=np.float64)\n",
    "# iter_solve(A, b)"
   ]
  },
  {
   "cell_type": "code",
   "execution_count": 73,
   "metadata": {},
   "outputs": [
    {
     "name": "stdout",
     "output_type": "stream",
     "text": [
      "Jacobi\n",
      "> Converge: True\n",
      "> Ax = [9. 7. 6.]\n",
      "> b = [9. 7. 6.]\n",
      "Gauss-Seidel\n",
      "> Converge: True\n",
      "> Ax = [9. 7. 6.]\n",
      "> b = [9. 7. 6.]\n"
     ]
    }
   ],
   "source": [
    "A = np.array([\n",
    "    [10, -1, 0],\n",
    "    [-1, -1, -2],\n",
    "    [0, -2, 10],\n",
    "])\n",
    "b = np.array([9, 7, 6], dtype=np.float64)\n",
    "iter_solve(A, b)"
   ]
  }
 ],
 "metadata": {
  "kernelspec": {
   "display_name": "venv",
   "language": "python",
   "name": "python3"
  },
  "language_info": {
   "codemirror_mode": {
    "name": "ipython",
    "version": 3
   },
   "file_extension": ".py",
   "mimetype": "text/x-python",
   "name": "python",
   "nbconvert_exporter": "python",
   "pygments_lexer": "ipython3",
   "version": "3.12.3"
  }
 },
 "nbformat": 4,
 "nbformat_minor": 2
}
